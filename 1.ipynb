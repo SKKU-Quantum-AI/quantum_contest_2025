{
 "cells": [
  {
   "cell_type": "code",
   "execution_count": 32,
   "id": "dc436112",
   "metadata": {},
   "outputs": [],
   "source": [
    "from qiskit.circuit.library import ZZFeatureMap\n",
    "\n",
    "\n",
    "\n",
    "def FeatureMapBuilder(num_features, reps):\n",
    "    feature_map = ZZFeatureMap(\n",
    "        feature_dimension=num_features,\n",
    "        reps=reps,\n",
    "    )\n",
    "    return feature_map\n",
    "\n",
    "my_feature_map = FeatureMapBuilder(3, 2)\n",
    "# my_feature_map.decompose().draw(\"mpl\", style=\"clifford\")"
   ]
  },
  {
   "cell_type": "code",
   "execution_count": 33,
   "id": "787e9723",
   "metadata": {},
   "outputs": [],
   "source": [
    "from qiskit.circuit.library import TwoLocal\n",
    "\n",
    "def AnsatzBuilder(num_qubits, reps):\n",
    "    ansatz = TwoLocal(\n",
    "        num_qubits=num_qubits,\n",
    "        rotation_blocks='ry',\n",
    "        entanglement_blocks='cx',\n",
    "        entanglement='full', \n",
    "        reps=reps, \n",
    "        insert_barriers=True\n",
    "    )\n",
    "    return ansatz\n",
    "\n",
    "my_ansatz = AnsatzBuilder(5, 3)\n",
    "# my_ansatz.decompose().draw(\"mpl\")"
   ]
  },
  {
   "cell_type": "code",
   "execution_count": null,
   "id": "4593bc63",
   "metadata": {},
   "outputs": [],
   "source": []
  }
 ],
 "metadata": {
  "kernelspec": {
   "display_name": "qml",
   "language": "python",
   "name": "python3"
  },
  "language_info": {
   "codemirror_mode": {
    "name": "ipython",
    "version": 3
   },
   "file_extension": ".py",
   "mimetype": "text/x-python",
   "name": "python",
   "nbconvert_exporter": "python",
   "pygments_lexer": "ipython3",
   "version": "3.12.11"
  }
 },
 "nbformat": 4,
 "nbformat_minor": 5
}
