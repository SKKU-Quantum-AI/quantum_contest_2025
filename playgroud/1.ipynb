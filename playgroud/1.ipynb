{
  "cells": [
    {
      "cell_type": "markdown",
      "id": "93220db2",
      "metadata": {},
      "source": [
        "# 동완"
      ]
    },
    {
      "cell_type": "code",
      "execution_count": null,
      "id": "dc436112",
      "metadata": {},
      "outputs": [],
      "source": [
        "from qiskit.circuit.library import ZZFeatureMap\n",
        "\n",
        "\n",
        "\n",
        "def FeatureMapBuilder(num_features, reps):\n",
        "    feature_map = ZZFeatureMap(\n",
        "        feature_dimension=num_features,\n",
        "        reps=reps,\n",
        "    )\n",
        "    return feature_map\n",
        "\n",
        "my_feature_map = FeatureMapBuilder(3, 2)\n",
        "# my_feature_map.decompose().draw(\"mpl\", style=\"clifford\")"
      ]
    },
    {
      "cell_type": "code",
      "execution_count": null,
      "id": "e14580f8",
      "metadata": {},
      "outputs": [],
      "source": []
    },
    {
      "cell_type": "code",
      "execution_count": 2,
      "id": "787e9723",
      "metadata": {},
      "outputs": [],
      "source": [
        "from qiskit.circuit.library import TwoLocal\n",
        "\n",
        "def AnsatzBuilder(num_qubits, reps):\n",
        "    ansatz = TwoLocal(\n",
        "        num_qubits=num_qubits,\n",
        "        rotation_blocks='ry',\n",
        "        entanglement_blocks='cx',\n",
        "        entanglement='full', \n",
        "        reps=reps, \n",
        "        insert_barriers=True\n",
        "    )\n",
        "    return ansatz\n",
        "\n",
        "my_ansatz = AnsatzBuilder(5, 3)\n",
        "# my_ansatz.decompose().draw(\"mpl\")"
      ]
    },
    {
      "cell_type": "markdown",
      "id": "cd14f4cc",
      "metadata": {},
      "source": [
        "# 영호"
      ]
    },
    {
      "cell_type": "code",
      "execution_count": null,
      "id": "665af801",
      "metadata": {},
      "outputs": [
        {
          "data": {
            "image/png": "[encoded data removed]",
            "text/plain": [
              "<Figure size 1207.02x200.667 with 1 Axes>"
            ]
          },
          "execution_count": 5,
          "metadata": {},
          "output_type": "execute_result"
        }
      ],
      "source": [
        "import matplotlib.pyplot as plt\n",
        "from qiskit.circuit import QuantumCircuit, ParameterVector\n",
        "\n",
        "\n",
        "# 2 qubit qnn circuit \n",
        "\n",
        "qc = QuantumCircuit(2)\n",
        "feature_map = FeatureMapBuilder(2,1)\n",
        "ansatz = AnsatzBuilder(2,1)\n",
        "\n",
        "qc.compose(feature_map, inplace=True)\n",
        "qc.barrier()\n",
        "qc.compose(ansatz, inplace=True)\n",
        "qc.decompose().draw('mpl')"
      ]
    },
    {
      "cell_type": "code",
      "execution_count": null,
      "id": "fb8656d6",
      "metadata": {},
      "outputs": [],
      "source": [
        "#effective dimension 계산에 필요한 라이브러리\n",
        "import numpy as np\n",
        "from IPython.display import clear_output\n",
        "from qiskit_machine_learning.optimizers import COBYLA\n",
        "from qiskit_machine_learning.utils import algorithm_globals\n",
        "from qiskit.primitives import StatevectorSampler as Sampler\n",
        "from sklearn.datasets import make_classification\n",
        "from sklearn.preprocessing import MinMaxScaler\n",
        "\n",
        "from qiskit_machine_learning.circuit.library import QNNCircuit\n",
        "from qiskit_machine_learning.algorithms.classifiers import NeuralNetworkClassifier\n",
        "from qiskit_machine_learning.neural_networks import EffectiveDimension, LocalEffectiveDimension\n",
        "from qiskit_machine_learning.neural_networks import SamplerQNN"
      ]
    },
    {
      "cell_type": "code",
      "execution_count": null,
      "id": "1b0b6f75",
      "metadata": {},
      "outputs": [
        {
          "name": "stderr",
          "output_type": "stream",
          "text": [
            "No gradient function provided, creating a gradient function. If your Sampler requires transpilation, please provide a pass manager.\n"
          ]
        }
      ],
      "source": [
        "#SamplerQNN, EffectiveDimension 정의\n",
        "sampler = Sampler()\n",
        "\n",
        "#samplerQNN 정의\n",
        "qnn = SamplerQNN(\n",
        "    circuit=qc,\n",
        "    input_params=feature_map.parameters,\n",
        "    weight_params=ansatz.parameters,\n",
        "    sampler=Sampler(),\n",
        ")\n",
        "\n",
        "#effective dimension 정의\n",
        "'''\n",
        "num_input_samples = 10\n",
        "num_weight_samples = 10\n",
        "\n",
        "\n",
        "global_ed = EffectiveDimension(\n",
        "    qnn=qnn, weight_samples=num_weight_samples, input_samples=num_input_samples\n",
        ")\n",
        "'''\n",
        "\n",
        "input_samples = algorithm_globals.random.normal(0, 1, size=(10, qnn.num_inputs))\n",
        "weight_samples = algorithm_globals.random.uniform(0, 1, size=(10, qnn.num_weights))\n",
        "\n",
        "global_ed = EffectiveDimension(qnn=qnn, weight_samples=weight_samples, input_samples=input_samples)"
      ]
    },
    {
      "cell_type": "code",
      "execution_count": null,
      "id": "677a92b8",
      "metadata": {},
      "outputs": [],
      "source": [
        "n = [5000, 8000, 10000, 40000, 60000, 100000, 150000, 200000, 500000, 1000000]\n",
        "def plot_effective_dimension(input_samples,weight_samples):\n",
        "    global_ed = EffectiveDimension(qnn=qnn, weight_samples=weight_samples, input_samples=input_samples)\n",
        "\n",
        "    global_eff_dim_0 = global_ed.get_effective_dimension(dataset_size=n[0])\n",
        "\n",
        "    d = qnn.num_weights\n",
        "    \n",
        "    print(\"Data size: {}, global effective dimension: {:.4f}\".format(n[0], global_eff_dim_0))\n",
        "    print(\n",
        "        \"Number of weights: {}, normalized effective dimension: {:.4f}\".format(d, global_eff_dim_0 / d)\n",
        "    )\n",
        "\n",
        "    global_eff_dim_1 = global_ed.get_effective_dimension(dataset_size=n)\n",
        "    print(\"Effective dimension: {}\".format(global_eff_dim_1))\n",
        "\n",
        "    print(\"Number of weights: {}\".format(d))\n",
        "    plt.plot(n, np.array(global_eff_dim_1) / d)\n",
        "    plt.xlabel(\"Number of data\")\n",
        "    plt.ylabel(\"Normalized GLOBAL effective dimension\")\n",
        "    plt.show()"
      ]
    }
  ],
  "metadata": {
    "kernelspec": {
      "display_name": "qiskit",
      "language": "python",
      "name": "python3"
    },
    "language_info": {
      "codemirror_mode": {
        "name": "ipython",
        "version": 3
      },
      "file_extension": ".py",
      "mimetype": "text/x-python",
      "name": "python",
      "nbconvert_exporter": "python",
      "pygments_lexer": "ipython3",
      "version": "3.11.11"
    }
  },
  "nbformat": 4,
  "nbformat_minor": 5
}
